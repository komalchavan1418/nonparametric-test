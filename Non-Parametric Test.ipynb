{
 "cells": [
  {
   "cell_type": "code",
   "execution_count": 4,
   "id": "e3f78ca1",
   "metadata": {},
   "outputs": [
    {
     "name": "stdout",
     "output_type": "stream",
     "text": [
      "Statistics=3140.000, p=0.000\n",
      "Different distribution (reject H0)\n"
     ]
    }
   ],
   "source": [
    "## Mann-Whitney U test\n",
    "from numpy.random import seed\n",
    "from numpy.random import randn\n",
    "from scipy.stats import mannwhitneyu\n",
    "                                      \n",
    "seed(1)                                                   ## seed the random number generator\n",
    "\n",
    "d1 = 2 * randn(100) + 40\n",
    "d2 = 2 * randn(100) + 41                                  ## generate the independent samples\n",
    "\n",
    "stat,p = mannwhitneyu(d1,d2)                              ## mannwhitneyu import from scipy.stats\n",
    "\n",
    "print('Statistics=%.3f, p=%.3f' % (stat,p))               ## compare samples\n",
    "\n",
    "alpha = 0.05\n",
    "if p > alpha:\n",
    "    print('Same distribution (fail to reject H0)')\n",
    "else:\n",
    "    print('Different distribution (reject H0)')           ## Interpretation"
   ]
  },
  {
   "cell_type": "code",
   "execution_count": 5,
   "id": "2c339459",
   "metadata": {},
   "outputs": [
    {
     "name": "stdout",
     "output_type": "stream",
     "text": [
      "Statistics=41.500, p=0.112\n",
      "Same distribution (fail to reject H0)\n"
     ]
    }
   ],
   "source": [
    "from numpy.random import seed\n",
    "from numpy.random import randn\n",
    "from scipy.stats import mannwhitneyu\n",
    "                                      \n",
    "seed(1)                                                   ## seed the random number generator\n",
    "\n",
    "d1 = [22,41,8,15,42,12,63,52,40,12,18]\n",
    "d2 =[12,41,85,56,17,60,23,46,26,50,20]                                 ## generate the independent samples\n",
    "\n",
    "stat,p = mannwhitneyu(d1,d2)                              ## mannwhitneyu import from scipy.stats\n",
    "\n",
    "print('Statistics=%.3f, p=%.3f' % (stat,p))               ## compare samples\n",
    "\n",
    "alpha = 0.05\n",
    "if p > alpha:\n",
    "    print('Same distribution (fail to reject H0)')\n",
    "else:\n",
    "    print('Different distribution (reject H0)')           ## Interpretation"
   ]
  },
  {
   "cell_type": "code",
   "execution_count": 6,
   "id": "874c4a20",
   "metadata": {},
   "outputs": [
    {
     "data": {
      "text/html": [
       "<div>\n",
       "<style scoped>\n",
       "    .dataframe tbody tr th:only-of-type {\n",
       "        vertical-align: middle;\n",
       "    }\n",
       "\n",
       "    .dataframe tbody tr th {\n",
       "        vertical-align: top;\n",
       "    }\n",
       "\n",
       "    .dataframe thead th {\n",
       "        text-align: right;\n",
       "    }\n",
       "</style>\n",
       "<table border=\"1\" class=\"dataframe\">\n",
       "  <thead>\n",
       "    <tr style=\"text-align: right;\">\n",
       "      <th></th>\n",
       "      <th>x</th>\n",
       "      <th>y</th>\n",
       "    </tr>\n",
       "  </thead>\n",
       "  <tbody>\n",
       "    <tr>\n",
       "      <th>0</th>\n",
       "      <td>2</td>\n",
       "      <td>1</td>\n",
       "    </tr>\n",
       "    <tr>\n",
       "      <th>1</th>\n",
       "      <td>5</td>\n",
       "      <td>3</td>\n",
       "    </tr>\n",
       "    <tr>\n",
       "      <th>2</th>\n",
       "      <td>7</td>\n",
       "      <td>4</td>\n",
       "    </tr>\n",
       "    <tr>\n",
       "      <th>3</th>\n",
       "      <td>10</td>\n",
       "      <td>5</td>\n",
       "    </tr>\n",
       "    <tr>\n",
       "      <th>4</th>\n",
       "      <td>8</td>\n",
       "      <td>9</td>\n",
       "    </tr>\n",
       "  </tbody>\n",
       "</table>\n",
       "</div>"
      ],
      "text/plain": [
       "    x  y\n",
       "0   2  1\n",
       "1   5  3\n",
       "2   7  4\n",
       "3  10  5\n",
       "4   8  9"
      ]
     },
     "execution_count": 6,
     "metadata": {},
     "output_type": "execute_result"
    }
   ],
   "source": [
    "import pandas as pd\n",
    "\n",
    "data = {'x':[2,5,7,10,8 ],\n",
    "        'y':[1,3,4,5,9]}                     ### write  our data in to a form of dictionary & create a Dataframe\n",
    "\n",
    "df = pd.DataFrame(data)\n",
    "df"
   ]
  },
  {
   "cell_type": "code",
   "execution_count": 7,
   "id": "6adf3396",
   "metadata": {},
   "outputs": [
    {
     "data": {
      "text/plain": [
       "MannwhitneyuResult(statistic=7.5, pvalue=0.1728709129303635)"
      ]
     },
     "execution_count": 7,
     "metadata": {},
     "output_type": "execute_result"
    }
   ],
   "source": [
    "from scipy.stats import mannwhitneyu\n",
    "\n",
    "# Carrying out the Wilcoxon–Mann–Whitney test\n",
    "MUtest= mannwhitneyu(df['x'], df['y'])       \n",
    "MUtest"
   ]
  },
  {
   "cell_type": "code",
   "execution_count": 8,
   "id": "f2e9e73b",
   "metadata": {},
   "outputs": [
    {
     "data": {
      "text/plain": [
       "MannwhitneyuResult(statistic=4.5, pvalue=0.006163481771339872)"
      ]
     },
     "execution_count": 8,
     "metadata": {},
     "output_type": "execute_result"
    }
   ],
   "source": [
    "import pandas as pd\n",
    "\n",
    "idrt = [i for i in range(1,8)]\n",
    "idrt += idrt\n",
    "\n",
    "data = {'Count':[7, 5, 6, 4, 12, 9, 8,\n",
    "                3, 6, 4, 2, 1, 5, 1],\n",
    "       'Condition':['No Treatment']*7 + ['Treatment']*7, 'IDtrt':idrt}\n",
    "\n",
    "# Dictionary to Dataframe\n",
    "df = pd.DataFrame(data)\n",
    "\n",
    "\n",
    "# Subsetting (i.e., creating new variables):\n",
    "x = df.query('Condition == \"No Treatment\"')['Count'] \n",
    "y = df.query('Condition == \"Treatment\"')['Count']\n",
    "\n",
    "# Mann-Whitney U test:\n",
    "mannwhitneyu(x, y)"
   ]
  },
  {
   "cell_type": "code",
   "execution_count": null,
   "id": "4ec3a379",
   "metadata": {},
   "outputs": [],
   "source": [
    "## KS test"
   ]
  },
  {
   "cell_type": "code",
   "execution_count": 9,
   "id": "3a86855a",
   "metadata": {},
   "outputs": [
    {
     "name": "stdout",
     "output_type": "stream",
     "text": [
      "Enter outcomes: \n",
      "KstestResult(statistic=0.33147067580520084, pvalue=0.5400700912997787)\n"
     ]
    }
   ],
   "source": [
    "from scipy.stats import kstest\n",
    "import random\n",
    "  \n",
    "# N = int(input(\"Enter number of random numbers: \"))\n",
    "N = 5\n",
    "  \n",
    "empty=[]\n",
    "print(\"Enter outcomes: \")\n",
    "for i in range(N):\n",
    "    # x = float(input(\"Outcomes of class \"+str(i + 1)+\": \"))\n",
    "    empty.append(random.random())\n",
    "x = kstest(empty, \"uniform\")   \n",
    "print(x)"
   ]
  },
  {
   "cell_type": "code",
   "execution_count": 2,
   "id": "8926588a",
   "metadata": {},
   "outputs": [
    {
     "data": {
      "text/plain": [
       "KstestResult(statistic=0.023529568510155197, pvalue=0.628399778776774)"
      ]
     },
     "execution_count": 2,
     "metadata": {},
     "output_type": "execute_result"
    }
   ],
   "source": [
    "## KS test for one sample \n",
    "from scipy.stats import kstest\n",
    "import numpy as np\n",
    "\n",
    "x = np.random.normal(0,1,1000)      ## random numbers from normal\n",
    "stat = kstest(x, 'norm')           ## test statistics\n",
    "stat\n",
    "### Which means that at p-value of 0.76 we can not reject the null hypothesis that the two distributions are identical.\n"
   ]
  },
  {
   "cell_type": "code",
   "execution_count": 10,
   "id": "c6dc0631",
   "metadata": {},
   "outputs": [],
   "source": [
    "from scipy.stats import kstest\n",
    "import numpy as np\n",
    "\n",
    "x = np.random.normal(0,1,2000)\n",
    "z = np.random.normal(1.1,0.9, 2000)"
   ]
  },
  {
   "cell_type": "code",
   "execution_count": 11,
   "id": "e2fe01f5",
   "metadata": {},
   "outputs": [
    {
     "data": {
      "text/plain": [
       "KstestResult(statistic=0.023, pvalue=0.9542189106778983)"
      ]
     },
     "execution_count": 11,
     "metadata": {},
     "output_type": "execute_result"
    }
   ],
   "source": [
    "### KS test for two samples \n",
    "import numpy as np\n",
    "from scipy.stats import ks_2samp \n",
    "np.random.seed(12345678)\n",
    "x = np.random.normal(0, 1, 1000)\n",
    "y = np.random.normal(0, 1, 1000)\n",
    "z = np.random.normal(1.1, 0.9, 1000)\n",
    "ks_2samp(x, y)\n",
    "###>>> ks_2samp(x, z)"
   ]
  },
  {
   "cell_type": "code",
   "execution_count": 12,
   "id": "c251d0ec",
   "metadata": {},
   "outputs": [
    {
     "data": {
      "text/plain": [
       "WilcoxonResult(statistic=25.0, pvalue=0.30126953125)"
      ]
     },
     "execution_count": 12,
     "metadata": {},
     "output_type": "execute_result"
    }
   ],
   "source": [
    "### Wilcoxon signed rank test  paired sample\n",
    "import scipy.stats as stats\n",
    "x=[12,25,14,23,22,20,29,15,24,28,18,27]       ## First we create data or take one example for our code\n",
    "y=[24,23,11,14,16,22,22,25,14,20,12,26]\n",
    "stats.wilcoxon(x,y)                           ## perform the wilcoxon-signed rank test"
   ]
  },
  {
   "cell_type": "code",
   "execution_count": 13,
   "id": "b906b6c1",
   "metadata": {},
   "outputs": [
    {
     "data": {
      "text/plain": [
       "(110.5, 0.014495849609375)"
      ]
     },
     "execution_count": 13,
     "metadata": {},
     "output_type": "execute_result"
    }
   ],
   "source": [
    "### Wilcoxon signed rank test for single sample\n",
    "from scipy.stats import wilcoxon\n",
    "d = [6, 4, 12, 18, 21, 23, 22, 30, 41, -49, 49, 56, 40, 68 , -57, 75]\n",
    "\n",
    "w, p = stats.wilcoxon(d, alternative='greater')\n",
    "w,p"
   ]
  },
  {
   "cell_type": "code",
   "execution_count": 8,
   "id": "0fb7f842",
   "metadata": {},
   "outputs": [
    {
     "ename": "SyntaxError",
     "evalue": "invalid syntax (<ipython-input-8-fe49518ae2b2>, line 2)",
     "output_type": "error",
     "traceback": [
      "\u001b[1;36m  File \u001b[1;32m\"<ipython-input-8-fe49518ae2b2>\"\u001b[1;36m, line \u001b[1;32m2\u001b[0m\n\u001b[1;33m    data=['worst'=0,'Average'=1,'good'=2,'best'=3]\u001b[0m\n\u001b[1;37m                 ^\u001b[0m\n\u001b[1;31mSyntaxError\u001b[0m\u001b[1;31m:\u001b[0m invalid syntax\n"
     ]
    }
   ],
   "source": [
    "## 2 example of wilcoxon signed rank test, consider a data as follows:\n",
    "data=['worst'=0,'Average'=1,'good'=2,'best'=3]\n",
    "from scipy.stats import wilcoxon\n",
    "M=2.5\n",
    "r,p=wilcoxon(M-data,zero_method='wilcox',correction=False)\n",
    "print(r)\n",
    "print(p)"
   ]
  },
  {
   "cell_type": "code",
   "execution_count": 14,
   "id": "b895a309",
   "metadata": {},
   "outputs": [
    {
     "data": {
      "text/plain": [
       "KruskalResult(statistic=17.818181818181827, pvalue=0.0001351546460166502)"
      ]
     },
     "execution_count": 14,
     "metadata": {},
     "output_type": "execute_result"
    }
   ],
   "source": [
    "### Kruskal test\n",
    "## suppose we take one example company provides salary for workers in theree groups according to experience\n",
    "Freshers= [12,15,18,20,22,24,26]\n",
    "five_years_exp= [30,33,36,39,42,45,48]\n",
    "more_than_five_years_exp= [50,53,56,59,62,65,68]\n",
    "from scipy import stats                                                  #perform Kruskal-Wallis Test \n",
    "stats.kruskal(Freshers,five_years_exp,more_than_five_years_exp)"
   ]
  },
  {
   "cell_type": "code",
   "execution_count": 2,
   "id": "5764d769",
   "metadata": {},
   "outputs": [
    {
     "data": {
      "text/plain": [
       "KruskalResult(statistic=7.0, pvalue=0.0301973834223185)"
      ]
     },
     "execution_count": 2,
     "metadata": {},
     "output_type": "execute_result"
    }
   ],
   "source": [
    "x = [1, 1, 1]\n",
    "y = [2, 2, 2]\n",
    "z = [2, 2]\n",
    "stats.kruskal(x, y, z)"
   ]
  },
  {
   "cell_type": "code",
   "execution_count": 6,
   "id": "dbe4b265",
   "metadata": {},
   "outputs": [
    {
     "data": {
      "text/plain": [
       "SpearmanrResult(correlation=0.9757575757575757, pvalue=1.4675461874042197e-06)"
      ]
     },
     "execution_count": 6,
     "metadata": {},
     "output_type": "execute_result"
    }
   ],
   "source": [
    "import numpy as np\n",
    ">>> import scipy.stats\n",
    ">>> x = np.arange(25, 35)\n",
    ">>> y = np.array([3, 2, 4, 6, 9, 11, 20, 25, 94, 44])\n",
    ">>> scipy.stats.spearmanr(x, y)  "
   ]
  },
  {
   "cell_type": "code",
   "execution_count": null,
   "id": "cb677c7a",
   "metadata": {},
   "outputs": [],
   "source": [
    ">>> scipy.stats.kendalltau(x, y)  # Kendall's tau\n",
    "KendalltauResult(correlation=0.911111111111111, pvalue=2.9761904761904762e-05\n",
    ">> scipy.stats.pearsonr(x, y)    # Pearson's r\n",
    "(0.7586402890911869, 0.010964341301680832)"
   ]
  },
  {
   "cell_type": "code",
   "execution_count": 2,
   "id": "2aeb6c38",
   "metadata": {},
   "outputs": [
    {
     "name": "stdout",
     "output_type": "stream",
     "text": [
      "Kendalls correlation coefficient: 0.556\n",
      "Samples are correlated (reject H0) p=0.045\n"
     ]
    }
   ],
   "source": [
    "# suppose if marks of students of two subject maths & stat are given, then how we use spearmans rank correlation test\n",
    "import numpy as np\n",
    "import scipy.stats\n",
    "d1 = [35,23,47,17,10,43,9,6,28]\n",
    "d2 = [30,33,45,23,8,49,12,4,3]\n",
    "# calculate spearman's correlation\n",
    "coef, p =scipy.stats.kendalltau(d1,d2) \n",
    "print('Kendalls correlation coefficient: %.3f' % coef)\n",
    "# interpret the significance\n",
    "alpha = 0.05\n",
    "if p > alpha:\n",
    "\tprint('Samples are uncorrelated (fail to reject H0) p=%.3f' % p)\n",
    "else:\n",
    "\tprint('Samples are correlated (reject H0) p=%.3f' % p)"
   ]
  },
  {
   "cell_type": "code",
   "execution_count": 1,
   "id": "44c7e84f",
   "metadata": {},
   "outputs": [
    {
     "name": "stdout",
     "output_type": "stream",
     "text": [
      "Kendall Rank correlation: 0.42857\n"
     ]
    }
   ],
   "source": [
    "# Import required libraries\n",
    "from scipy.stats import kendalltau\n",
    "  \n",
    "# Taking values from the above example in Lists\n",
    "X = [1, 2, 3, 4, 5, 6, 7]\n",
    "Y = [1, 3, 6, 2, 7, 4, 5]\n",
    "  \n",
    "# Calculating Kendall Rank correlation\n",
    "corr, _ = kendalltau(X, Y)\n",
    "print('Kendall Rank correlation: %.5f' % corr)"
   ]
  },
  {
   "cell_type": "code",
   "execution_count": 3,
   "id": "97c4ba48",
   "metadata": {},
   "outputs": [
    {
     "data": {
      "text/plain": [
       "FriedmanchisquareResult(statistic=13.351351351351344, pvalue=0.0012612201221243594)"
      ]
     },
     "execution_count": 3,
     "metadata": {},
     "output_type": "execute_result"
    }
   ],
   "source": [
    "### consider example of effect of teaching method on three different groups A,B,C\n",
    "A= [84, 66, 73, 94, 83, 62, 72, 87, 96, 55]\n",
    "B= [85, 66, 78, 47, 57, 68, 74, 86, 94, 45]\n",
    "C= [82, 64, 74, 63, 52, 62, 71, 84, 93, 32]\n",
    "from scipy import stats                                           #perform Friedman Test\n",
    "stats.friedmanchisquare(A, B, C)\n",
    "\n"
   ]
  },
  {
   "cell_type": "code",
   "execution_count": 1,
   "id": "e73f95ca",
   "metadata": {},
   "outputs": [
    {
     "data": {
      "text/plain": [
       "F_onewayResult(statistic=0.11976360858727991, pvalue=0.8875987506034094)"
      ]
     },
     "execution_count": 1,
     "metadata": {},
     "output_type": "execute_result"
    }
   ],
   "source": [
    "### ANOVA TEST\n",
    "## consider an example of test score of students in three divisisons of same year\n",
    "Div_A=[85,80,86,92,79,68,70,82,94,89]\n",
    "Div_B=[80,78,88,90,65,72,85,93,97,87]\n",
    "Div_C=[83,70,85,94,64,70,79,90,91,88]\n",
    "from scipy.stats import f_oneway                            #perform one-way ANOVA\n",
    "f_oneway(Div_A, Div_B, Div_C)\n",
    "## here p value is 0.88 which is greater than alfa i.e 0.05 so we fail to reject H0\n"
   ]
  },
  {
   "cell_type": "code",
   "execution_count": null,
   "id": "4a5d9d32",
   "metadata": {},
   "outputs": [],
   "source": []
  }
 ],
 "metadata": {
  "kernelspec": {
   "display_name": "Python 3",
   "language": "python",
   "name": "python3"
  },
  "language_info": {
   "codemirror_mode": {
    "name": "ipython",
    "version": 3
   },
   "file_extension": ".py",
   "mimetype": "text/x-python",
   "name": "python",
   "nbconvert_exporter": "python",
   "pygments_lexer": "ipython3",
   "version": "3.8.8"
  }
 },
 "nbformat": 4,
 "nbformat_minor": 5
}
